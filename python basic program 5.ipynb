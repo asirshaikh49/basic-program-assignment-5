{
 "cells": [
  {
   "cell_type": "markdown",
   "metadata": {},
   "source": [
    "# 1. Write a Python Program to Find LCM?"
   ]
  },
  {
   "cell_type": "code",
   "execution_count": 7,
   "metadata": {},
   "outputs": [
    {
     "name": "stdout",
     "output_type": "stream",
     "text": [
      "Enter first number: \n"
     ]
    },
    {
     "ename": "ValueError",
     "evalue": "invalid literal for int() with base 10: ''",
     "output_type": "error",
     "traceback": [
      "\u001b[1;31m---------------------------------------------------------------------------\u001b[0m",
      "\u001b[1;31mValueError\u001b[0m                                Traceback (most recent call last)",
      "\u001b[1;32m<ipython-input-7-0b04480733d2>\u001b[0m in \u001b[0;36m<module>\u001b[1;34m\u001b[0m\n\u001b[0;32m     12\u001b[0m \u001b[1;33m\u001b[0m\u001b[0m\n\u001b[0;32m     13\u001b[0m \u001b[1;33m\u001b[0m\u001b[0m\n\u001b[1;32m---> 14\u001b[1;33m \u001b[0mnum1\u001b[0m \u001b[1;33m=\u001b[0m \u001b[0mint\u001b[0m\u001b[1;33m(\u001b[0m\u001b[0minput\u001b[0m\u001b[1;33m(\u001b[0m\u001b[1;34m\"Enter first number: \"\u001b[0m\u001b[1;33m)\u001b[0m\u001b[1;33m)\u001b[0m\u001b[1;33m\u001b[0m\u001b[1;33m\u001b[0m\u001b[0m\n\u001b[0m\u001b[0;32m     15\u001b[0m \u001b[0mnum2\u001b[0m \u001b[1;33m=\u001b[0m \u001b[0mint\u001b[0m\u001b[1;33m(\u001b[0m\u001b[0minput\u001b[0m\u001b[1;33m(\u001b[0m\u001b[1;34m\"Enter second number: \"\u001b[0m\u001b[1;33m)\u001b[0m\u001b[1;33m)\u001b[0m\u001b[1;33m\u001b[0m\u001b[1;33m\u001b[0m\u001b[0m\n\u001b[0;32m     16\u001b[0m \u001b[0mprint\u001b[0m\u001b[1;33m(\u001b[0m\u001b[1;34m\"The L.C.M. of\"\u001b[0m\u001b[1;33m,\u001b[0m \u001b[0mnum1\u001b[0m\u001b[1;33m,\u001b[0m\u001b[1;34m\"and\"\u001b[0m\u001b[1;33m,\u001b[0m \u001b[0mnum2\u001b[0m\u001b[1;33m,\u001b[0m\u001b[1;34m\"is\"\u001b[0m\u001b[1;33m,\u001b[0m \u001b[0mlcm\u001b[0m\u001b[1;33m(\u001b[0m\u001b[0mnum1\u001b[0m\u001b[1;33m,\u001b[0m \u001b[0mnum2\u001b[0m\u001b[1;33m)\u001b[0m\u001b[1;33m)\u001b[0m\u001b[1;33m\u001b[0m\u001b[1;33m\u001b[0m\u001b[0m\n",
      "\u001b[1;31mValueError\u001b[0m: invalid literal for int() with base 10: ''"
     ]
    }
   ],
   "source": [
    "def lcm(x, y):  \n",
    "   if x > y:  \n",
    "       greater = x  \n",
    "   else:  \n",
    "       greater = y  \n",
    "   while(True):  \n",
    "       if((greater % x == 0) and (greater % y == 0)):  \n",
    "           lcm = greater  \n",
    "           break  \n",
    "       greater += 1  \n",
    "   return lcm  \n",
    "  \n",
    "  \n",
    "num1 = int(input(\"Enter first number: \"))  \n",
    "num2 = int(input(\"Enter second number: \"))  \n",
    "print(\"The L.C.M. of\", num1,\"and\", num2,\"is\", lcm(num1, num2))  "
   ]
  },
  {
   "cell_type": "markdown",
   "metadata": {},
   "source": [
    "# 2. Write a Python Program to Find HCF?"
   ]
  },
  {
   "cell_type": "code",
   "execution_count": null,
   "metadata": {},
   "outputs": [],
   "source": [
    "def hcf(x, y):  \n",
    "   if x > y:  \n",
    "       smaller = y  \n",
    "   else:  \n",
    "       smaller = x  \n",
    "   for i in range(1,smaller + 1):  \n",
    "       if((x % i == 0) and (y % i == 0)):  \n",
    "           hcf = i  \n",
    "   return hcf  \n",
    "  \n",
    "num1 = int(input(\"Enter first number: \"))  \n",
    "num2 = int(input(\"Enter second number: \"))  \n",
    "print(\"The H.C.F. of\", num1,\"and\", num2,\"is\", hcf(num1, num2))  "
   ]
  },
  {
   "cell_type": "markdown",
   "metadata": {},
   "source": [
    "# 3. Write a Python Program to Convert Decimal to Binary, Octal and Hexadecimal?"
   ]
  },
  {
   "cell_type": "code",
   "execution_count": 10,
   "metadata": {},
   "outputs": [
    {
     "name": "stdout",
     "output_type": "stream",
     "text": [
      "Enter a decimal number: 7\n",
      "0b111 in binary.\n",
      "0o7 in octal.\n",
      "0x7 in hexadecimal.\n"
     ]
    }
   ],
   "source": [
    "dec = int(input(\"Enter a decimal number: \"))  \n",
    "  \n",
    "print(bin(dec),\"in binary.\")  \n",
    "print(oct(dec),\"in octal.\")  \n",
    "print(hex(dec),\"in hexadecimal.\") "
   ]
  },
  {
   "cell_type": "markdown",
   "metadata": {},
   "source": [
    "# 4. Write a Python Program To Find ASCII value of a character?"
   ]
  },
  {
   "cell_type": "code",
   "execution_count": 12,
   "metadata": {},
   "outputs": [
    {
     "name": "stdout",
     "output_type": "stream",
     "text": [
      "Enter a character: f\n",
      "The ASCII value of 'f' is 102\n"
     ]
    }
   ],
   "source": [
    "c = input(\"Enter a character: \")  \n",
    "  \n",
    "print(\"The ASCII value of '\" + c + \"' is\",ord(c))  "
   ]
  },
  {
   "cell_type": "markdown",
   "metadata": {},
   "source": [
    "# 5. Write a Python Program to Make a Simple Calculator with 4 basic mathematical operations?"
   ]
  },
  {
   "cell_type": "code",
   "execution_count": 14,
   "metadata": {},
   "outputs": [
    {
     "name": "stdout",
     "output_type": "stream",
     "text": [
      "Select operation.\n",
      "1.Add\n",
      "2.Subtract\n",
      "3.Multiply\n",
      "4.Divide\n",
      "Enter choice(1/2/3/4):3\n",
      "Enter first number: 8\n",
      "Enter second number: 4\n",
      "8 * 4 = 32\n"
     ]
    }
   ],
   "source": [
    "def add(x, y):  \n",
    "   #\"\"\"This function adds two numbers\"\" \n",
    "   return x + y \n",
    "def subtract(x, y): \n",
    "   #\"\"\"This function subtracts two numbers\"\"\" \n",
    "   return x - y \n",
    "def multiply(x, y): \n",
    "   #\"\"\"This function multiplies two numbers\"\"\" \n",
    "   return x * y \n",
    "def divide(x, y): \n",
    "   #\"\"\"This function divides two numbers\"\"\"  \n",
    "   return x / y  \n",
    "# take input from the user  \n",
    "print(\"Select operation.\")  \n",
    "print(\"1.Add\")  \n",
    "print(\"2.Subtract\")  \n",
    "print(\"3.Multiply\")  \n",
    "print(\"4.Divide\")  \n",
    "  \n",
    "choice = input(\"Enter choice(1/2/3/4):\")  \n",
    "  \n",
    "num1 = int(input(\"Enter first number: \"))  \n",
    "num2 = int(input(\"Enter second number: \"))  \n",
    "  \n",
    "if choice == '1':  \n",
    "   print(num1,\"+\",num2,\"=\", add(num1,num2))  \n",
    "  \n",
    "elif choice == '2':  \n",
    "   print(num1,\"-\",num2,\"=\", subtract(num1,num2))  \n",
    "  \n",
    "elif choice == '3':  \n",
    "   print(num1,\"*\",num2,\"=\", multiply(num1,num2))  \n",
    "elif choice == '4':  \n",
    "   print(num1,\"/\",num2,\"=\", divide(num1,num2))  \n",
    "else:  \n",
    "   print(\"Invalid input\")  "
   ]
  },
  {
   "cell_type": "code",
   "execution_count": null,
   "metadata": {},
   "outputs": [],
   "source": []
  }
 ],
 "metadata": {
  "kernelspec": {
   "display_name": "Python 3",
   "language": "python",
   "name": "python3"
  },
  "language_info": {
   "codemirror_mode": {
    "name": "ipython",
    "version": 3
   },
   "file_extension": ".py",
   "mimetype": "text/x-python",
   "name": "python",
   "nbconvert_exporter": "python",
   "pygments_lexer": "ipython3",
   "version": "3.8.5"
  }
 },
 "nbformat": 4,
 "nbformat_minor": 4
}
